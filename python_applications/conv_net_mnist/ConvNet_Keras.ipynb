{
 "cells": [
  {
   "cell_type": "code",
   "execution_count": 1,
   "metadata": {},
   "outputs": [
    {
     "name": "stderr",
     "output_type": "stream",
     "text": [
      "Using TensorFlow backend.\n"
     ]
    }
   ],
   "source": [
    "from keras.models import Sequential\n",
    "from keras.layers import Dense, Dropout, Activation, Flatten\n",
    "from keras.layers.convolutional import Convolution2D, MaxPooling2D, Conv2D\n",
    "import keras\n",
    "import pandas as pd\n",
    "import numpy as np\n",
    "from sklearn.model_selection import train_test_split \n",
    "import matplotlib.pyplot as plt\n",
    "\n"
   ]
  },
  {
   "cell_type": "code",
   "execution_count": 2,
   "metadata": {},
   "outputs": [],
   "source": [
    "data = pd.read_csv('mnist.csv')"
   ]
  },
  {
   "cell_type": "code",
   "execution_count": 3,
   "metadata": {},
   "outputs": [
    {
     "data": {
      "image/png": "[encoded data removed]",
      "text/plain": [
       "<Figure size 432x288 with 1 Axes>"
      ]
     },
     "metadata": {
      "needs_background": "light"
     },
     "output_type": "display_data"
    }
   ],
   "source": [
    "#Showing an example\n",
    "imageArray = data.iloc[3,1:].values.reshape(28,28)\n",
    "plt.imshow(imageArray, cmap=\"Greys_r\")\n",
    "plt.show()"
   ]
  },
  {
   "cell_type": "code",
   "execution_count": 4,
   "metadata": {},
   "outputs": [],
   "source": [
    "#Converting the pixels to the form (28,28,1)\n",
    "reshaped_data = data.iloc[:,1:].values.reshape(len(data),28,28,1)\n",
    "\n",
    "#Converting and storing the labels in y\n",
    "y = keras.utils.to_categorical(data.iloc[:,0].values,num_classes=10)\n",
    "\n",
    "#Converting to numpy arrays\n",
    "df_reshaped_data = np.array(reshaped_data)\n",
    "df_y = np.array(y)\n",
    "\n",
    "#Splitting data set to train and test\n",
    "x_train, x_test, y_train, y_test = train_test_split(df_reshaped_data,df_y,test_size=0.2,random_state=None)\n"
   ]
  },
  {
   "cell_type": "code",
   "execution_count": 5,
   "metadata": {},
   "outputs": [
    {
     "name": "stdout",
     "output_type": "stream",
     "text": [
      "_________________________________________________________________\n",
      "Layer (type)                 Output Shape              Param #   \n",
      "=================================================================\n",
      "conv2d_1 (Conv2D)            (None, 25, 25, 32)        544       \n",
      "_________________________________________________________________\n",
      "max_pooling2d_1 (MaxPooling2 (None, 8, 8, 32)          0         \n",
      "_________________________________________________________________\n",
      "conv2d_2 (Conv2D)            (None, 7, 7, 16)          2064      \n",
      "_________________________________________________________________\n",
      "max_pooling2d_2 (MaxPooling2 (None, 3, 3, 16)          0         \n",
      "_________________________________________________________________\n",
      "flatten_1 (Flatten)          (None, 144)               0         \n",
      "_________________________________________________________________\n",
      "dense_1 (Dense)              (None, 200)               29000     \n",
      "_________________________________________________________________\n",
      "dropout_1 (Dropout)          (None, 200)               0         \n",
      "_________________________________________________________________\n",
      "dense_2 (Dense)              (None, 10)                2010      \n",
      "_________________________________________________________________\n",
      "activation_1 (Activation)    (None, 10)                0         \n",
      "=================================================================\n",
      "Total params: 33,618\n",
      "Trainable params: 33,618\n",
      "Non-trainable params: 0\n",
      "_________________________________________________________________\n"
     ]
    }
   ],
   "source": [
    "#Creating the CNN\n",
    "model = Sequential()\n",
    "model.add(Convolution2D(32,4,data_format='channels_last',activation='relu',input_shape=(28,28,1)))\n",
    "model.add(MaxPooling2D(pool_size=(3,3)))\n",
    "model.add(Convolution2D(16,2,activation='relu'))\n",
    "model.add(MaxPooling2D(pool_size=(2,2)))\n",
    "model.add(Flatten())\n",
    "model.add(Dense(200))\n",
    "model.add(Dropout(0.5))\n",
    "model.add(Dense(10))\n",
    "model.add(Activation('softmax'))\n",
    "model.compile(loss='categorical_crossentropy', optimizer = 'adadelta', metrics = ['accuracy'])\n",
    "\n",
    "model.summary()"
   ]
  },
  {
   "cell_type": "code",
   "execution_count": 6,
   "metadata": {},
   "outputs": [
    {
     "name": "stdout",
     "output_type": "stream",
     "text": [
      "Train on 6399 samples, validate on 1600 samples\n",
      "Epoch 1/10\n",
      "6399/6399 [==============================] - 3s 422us/step - loss: 14.4342 - acc: 0.1017 - val_loss: 13.0433 - val_acc: 0.1819\n",
      "Epoch 2/10\n",
      "6399/6399 [==============================] - 2s 369us/step - loss: 13.3365 - acc: 0.1666 - val_loss: 10.8755 - val_acc: 0.3169\n",
      "Epoch 3/10\n",
      "6399/6399 [==============================] - 2s 385us/step - loss: 8.9417 - acc: 0.4137 - val_loss: 4.0032 - val_acc: 0.7156\n",
      "Epoch 4/10\n",
      "6399/6399 [==============================] - 3s 404us/step - loss: 3.0090 - acc: 0.7517 - val_loss: 0.9082 - val_acc: 0.9044\n",
      "Epoch 5/10\n",
      "6399/6399 [==============================] - 2s 373us/step - loss: 1.2120 - acc: 0.8673 - val_loss: 0.6269 - val_acc: 0.9219\n",
      "Epoch 6/10\n",
      "6399/6399 [==============================] - 2s 382us/step - loss: 0.8390 - acc: 0.8912 - val_loss: 0.4447 - val_acc: 0.9306\n",
      "Epoch 7/10\n",
      "6399/6399 [==============================] - 2s 372us/step - loss: 0.5756 - acc: 0.9173 - val_loss: 0.3738 - val_acc: 0.9381\n",
      "Epoch 8/10\n",
      "6399/6399 [==============================] - 2s 373us/step - loss: 0.4841 - acc: 0.9205 - val_loss: 0.3775 - val_acc: 0.9519\n",
      "Epoch 9/10\n",
      "6399/6399 [==============================] - 2s 378us/step - loss: 0.3661 - acc: 0.9398 - val_loss: 0.2699 - val_acc: 0.9556\n",
      "Epoch 10/10\n",
      "6399/6399 [==============================] - 2s 378us/step - loss: 0.3552 - acc: 0.9376 - val_loss: 0.2527 - val_acc: 0.9519\n"
     ]
    }
   ],
   "source": [
    "#Fitting the model\n",
    "history = model.fit(x_train,y_train,validation_split=0.2, epochs=10)\n",
    "\n"
   ]
  },
  {
   "cell_type": "code",
   "execution_count": 7,
   "metadata": {},
   "outputs": [
    {
     "data": {
      "image/png": "[encoded data removed]",
      "text/plain": [
       "<Figure size 432x288 with 1 Axes>"
      ]
     },
     "metadata": {
      "needs_background": "light"
     },
     "output_type": "display_data"
    },
    {
     "data": {
      "image/png": "[encoded data removed]",
      "text/plain": [
       "<Figure size 432x288 with 1 Axes>"
      ]
     },
     "metadata": {
      "needs_background": "light"
     },
     "output_type": "display_data"
    }
   ],
   "source": [
    "#Ploting Loss\n",
    "plt.plot(history.history['loss'])\n",
    "plt.plot(history.history['val_loss'])\n",
    "plt.title('model loss')\n",
    "plt.ylabel('loss')\n",
    "plt.xlabel('epoch')\n",
    "plt.legend(['train', 'validation'], loc='upper left')\n",
    "plt.show()\n",
    "\n",
    "\n",
    "\n",
    "\n",
    "\n",
    "#Plotting Accuracy\n",
    "plt.plot(history.history['acc'])\n",
    "plt.plot(history.history['val_acc'])\n",
    "plt.title('model accuracy')\n",
    "plt.ylabel('accuracy')\n",
    "plt.xlabel('epoch')\n",
    "plt.legend(['train', 'validation'], loc='upper left')\n",
    "plt.show()"
   ]
  },
  {
   "cell_type": "code",
   "execution_count": 9,
   "metadata": {},
   "outputs": [
    {
     "name": "stdout",
     "output_type": "stream",
     "text": [
      "2000/2000 [==============================] - 0s 156us/step\n"
     ]
    },
    {
     "data": {
      "text/plain": [
       "[0.3631790563139366, 0.946]"
      ]
     },
     "execution_count": 9,
     "metadata": {},
     "output_type": "execute_result"
    }
   ],
   "source": [
    "#Testing \n",
    "model.evaluate(x_test,y_test)\n"
   ]
  },
  {
   "cell_type": "code",
   "execution_count": 12,
   "metadata": {},
   "outputs": [
    {
     "data": {
      "image/png": "[encoded data removed]",
      "text/plain": [
       "<Figure size 432x288 with 1 Axes>"
      ]
     },
     "metadata": {
      "needs_background": "light"
     },
     "output_type": "display_data"
    },
    {
     "name": "stdout",
     "output_type": "stream",
     "text": [
      "prediction: 4\n",
      "label: 4\n"
     ]
    }
   ],
   "source": [
    "##### Trying a specific example (4)\n",
    "num_ex = 120\n",
    "pic = x_test[num_ex,:,:].flatten().reshape(28,28)\n",
    "plt.imshow(pic, cmap=\"Greys_r\")\n",
    "plt.show()\n",
    "\n",
    "prediction = model.predict(np.array([x_test[num_ex]]))\n",
    "\n",
    "print'prediction: {!r}'.format(np.argmax(prediction))\n",
    "print'label: {!r}'.format(np.argmax(y_test[num_ex]))\n",
    "\n"
   ]
  },
  {
   "cell_type": "code",
   "execution_count": 15,
   "metadata": {},
   "outputs": [
    {
     "data": {
      "image/png": "[encoded data removed]",
      "text/plain": [
       "<Figure size 432x288 with 1 Axes>"
      ]
     },
     "metadata": {
      "needs_background": "light"
     },
     "output_type": "display_data"
    },
    {
     "name": "stdout",
     "output_type": "stream",
     "text": [
      "prediction: 8\n",
      "label: 8\n"
     ]
    }
   ],
   "source": [
    "##### Trying a specific example (1)\n",
    "num_ex = 123\n",
    "pic = x_test[num_ex,:,:].flatten().reshape(28,28)\n",
    "plt.imshow(pic, cmap=\"Greys_r\")\n",
    "plt.show()\n",
    "\n",
    "prediction = model.predict(np.array([x_test[num_ex]]))\n",
    "\n",
    "print'prediction: {!r}'.format(np.argmax(prediction))\n",
    "print'label: {!r}'.format(np.argmax(y_test[num_ex]))\n",
    "\n"
   ]
  }
 ],
 "metadata": {
  "kernelspec": {
   "display_name": "Python 2",
   "language": "python",
   "name": "python2"
  },
  "language_info": {
   "codemirror_mode": {
    "name": "ipython",
    "version": 2
   },
   "file_extension": ".py",
   "mimetype": "text/x-python",
   "name": "python",
   "nbconvert_exporter": "python",
   "pygments_lexer": "ipython2",
   "version": "2.7.12"
  }
 },
 "nbformat": 4,
 "nbformat_minor": 2
}
